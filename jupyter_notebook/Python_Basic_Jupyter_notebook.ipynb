{
 "cells": [
  {
   "cell_type": "markdown",
   "metadata": {},
   "source": [
    "## Python Chilla with Baba AMMAR\n",
    "**Python Basics for Data Science Note Book*\n",
    "*Python Day 2 "
   ]
  },
  {
   "cell_type": "markdown",
   "metadata": {},
   "source": [
    "**1-first program**"
   ]
  },
  {
   "cell_type": "code",
   "execution_count": 1,
   "metadata": {},
   "outputs": [
    {
     "name": "stdout",
     "output_type": "stream",
     "text": [
      "5\n",
      "Hello_my_daughter_name_is_HANIA\n"
     ]
    }
   ],
   "source": [
    "print(2+3)\n",
    "print(\"Hello_my_daughter_name_is_HANIA\")"
   ]
  },
  {
   "cell_type": "markdown",
   "metadata": {},
   "source": [
    "**2-Python Operators**"
   ]
  },
  {
   "cell_type": "code",
   "execution_count": 2,
   "metadata": {},
   "outputs": [
    {
     "name": "stdout",
     "output_type": "stream",
     "text": [
      "10\n",
      "6\n",
      "16\n",
      "4.0\n",
      "4\n",
      "64\n",
      "0\n"
     ]
    }
   ],
   "source": [
    "print(8+2)\n",
    "print(8-2)\n",
    "print(8*2)\n",
    "print(8/2) #Result with floating value 4.0 etc\n",
    "print(8//2) #Result with integer value 4 etc\n",
    "print(8**2)\n",
    "print(8%2) #Modulus gives us remainder\n",
    "\n",
    "#PEMDAS # Parenthsis Exponent Multiply Divide Add Subtract\n",
    "# Left to right requence for M D and A S"
   ]
  },
  {
   "cell_type": "markdown",
   "metadata": {},
   "source": [
    "**3-Strings**"
   ]
  },
  {
   "cell_type": "code",
   "execution_count": 3,
   "metadata": {},
   "outputs": [
    {
     "name": "stdout",
     "output_type": "stream",
     "text": [
      "Hello_my_daughter_name_is_HANIA\n"
     ]
    }
   ],
   "source": [
    "print(\"Hello_my_daughter_name_is_HANIA\")"
   ]
  },
  {
   "cell_type": "markdown",
   "metadata": {},
   "source": [
    "**4-comments**"
   ]
  },
  {
   "cell_type": "code",
   "execution_count": 4,
   "metadata": {},
   "outputs": [
    {
     "name": "stdout",
     "output_type": "stream",
     "text": [
      "Hello_my_daughter_name_is_HANIA\n",
      "We are learning python\n",
      "15\n"
     ]
    }
   ],
   "source": [
    "print(\"Hello_my_daughter_name_is_HANIA\")\n",
    "print(\"We are learning python\") \n",
    "print(3*5)\n",
    "# ctrl + / to comment out multi lines of code or text or integers etc"
   ]
  },
  {
   "cell_type": "markdown",
   "metadata": {},
   "source": [
    "**5-variables**"
   ]
  },
  {
   "cell_type": "code",
   "execution_count": 5,
   "metadata": {},
   "outputs": [
    {
     "name": "stdout",
     "output_type": "stream",
     "text": [
      "<class 'str'>\n",
      "<class 'int'>\n",
      "<class 'float'>\n",
      "('cpu', 'lcd', 'mouse', 'keyboard')\n"
     ]
    }
   ],
   "source": [
    "Hania=\"My Daughter\"\n",
    "Marrium=1\n",
    "Hammad=2.1\n",
    "print(type(Hania))\n",
    "print(type(Marrium))\n",
    "print(type(Hammad))\n",
    "\n",
    "# RULES TO ASSIGN A VARIABLE\n",
    "\n",
    "# 1- The variable must contain letters, numbers or underscore\n",
    "# 2- Don't start a variable with a number\n",
    "# 3- Spaces are not allowed instead use underscore _\n",
    "# 4- Don't use keywords use in functions of python \n",
    "# (Mean, Median, break, for,while, test) GOOGLE it KEYWORDS in PYTHON \n",
    "# 5- Short and descriptive (understandable)\n",
    "# 6- Case sensitive >> Use lowercase always >> Hania and hania is different\n",
    "\n",
    "computer_components=\"cpu\", \"lcd\", \"mouse\", \"keyboard\"\n",
    "print(computer_components) "
   ]
  },
  {
   "cell_type": "markdown",
   "metadata": {},
   "source": [
    "**6-input variables**"
   ]
  },
  {
   "cell_type": "code",
   "execution_count": 6,
   "metadata": {},
   "outputs": [
    {
     "name": "stdout",
     "output_type": "stream",
     "text": [
      "Your Daughter name? Hania\n",
      "Hania\n",
      "Enter your name? Hammad\n",
      "Hello Hammad\n",
      "Hello Hammad you are still young\n"
     ]
    }
   ],
   "source": [
    "a=input(\"Your Daughter name? \")\n",
    "print(a)\n",
    "\n",
    "# 2nd stage input function\n",
    "name=input(\"Enter your name? \")\n",
    "greetings=\"Hello\"\n",
    "print(greetings, name)\n",
    "print(greetings, name, \"you are still young\")"
   ]
  },
  {
   "cell_type": "markdown",
   "metadata": {},
   "source": [
    "**7-conditional logics**"
   ]
  },
  {
   "cell_type": "code",
   "execution_count": 7,
   "metadata": {},
   "outputs": [],
   "source": [
    "# Logical operators are TRUE or FALSE or 0 or 1 or yes or no\n",
    "\n",
    "# >     GREATER\n",
    "# >=    Greater than and equal to\n",
    "# <     Less\n",
    "# <=    Less than and equal to\n",
    "# ==    Greater than and equal to\n",
    "# !=    Not equal to'\n",
    "\n",
    "# APPLICATIONS of LOGICAL OPERATORS"
   ]
  },
  {
   "cell_type": "markdown",
   "metadata": {},
   "source": [
    "**8-type conversion**"
   ]
  },
  {
   "cell_type": "code",
   "execution_count": 8,
   "metadata": {},
   "outputs": [
    {
     "name": "stdout",
     "output_type": "stream",
     "text": [
      "22.2 Type of function is:  <class 'int'>\n",
      "enter your age28\n",
      "<class 'str'> The number we input always a string\n",
      "<class 'int'> explicit conversion\n"
     ]
    }
   ],
   "source": [
    "x=11\n",
    "y=11.2\n",
    "# implicit type of conversion\n",
    "print(x+y, \"Type of function is: \", type(x))\n",
    "# explicit type of conversion\n",
    "\n",
    "age=input(\"enter your age\")\n",
    "print(type(age), \"The number we input always a string\")\n",
    "age=int(age)\n",
    "print(type(age), \"explicit conversion\")"
   ]
  },
  {
   "cell_type": "markdown",
   "metadata": {},
   "source": [
    "**9-if else and elif**"
   ]
  },
  {
   "cell_type": "code",
   "execution_count": 9,
   "metadata": {},
   "outputs": [
    {
     "name": "stdout",
     "output_type": "stream",
     "text": [
      "enter hania's weight: 7\n",
      "Pamper size is number 3\n"
     ]
    }
   ],
   "source": [
    "Hania_weight_is=int(input(\"enter hania's weight: \"))\n",
    "weight_in_kg=5\n",
    "if Hania_weight_is==weight_in_kg:\n",
    "    print(\"Pamper size is number 2\")\n",
    "elif Hania_weight_is < weight_in_kg:\n",
    "    print(\"Pamper size is number 1\")\n",
    "else:\n",
    "    print(\"Pamper size is number 3\") "
   ]
  },
  {
   "cell_type": "markdown",
   "metadata": {},
   "source": [
    "**10-functions**"
   ]
  },
  {
   "cell_type": "code",
   "execution_count": 10,
   "metadata": {},
   "outputs": [
    {
     "name": "stdout",
     "output_type": "stream",
     "text": [
      "My name is hammad\n",
      "My name is hammad\n",
      "I am Hammad\n",
      "I am Hammad\n",
      "I am Hammad\n",
      "Enter your age, for school admission5\n",
      "Hammad can join the school\n",
      "enter your age40\n"
     ]
    },
    {
     "data": {
      "text/plain": [
       "60"
      ]
     },
     "execution_count": 10,
     "metadata": {},
     "output_type": "execute_result"
    }
   ],
   "source": [
    "# Defining a function\n",
    "# 1\n",
    "def print_code():\n",
    "    print(\"My name is hammad\\n\"\"My name is hammad\" )\n",
    "\n",
    "print_code()\n",
    "\n",
    "# 2\n",
    "def print_codanics(text):\n",
    "    print(text)\n",
    "    print(text)\n",
    "    print(text)\n",
    "\n",
    "print_codanics(\"I am Hammad\")\n",
    "\n",
    "# 3\n",
    "age=int(input(\"Enter your age, for school admission\"))\n",
    "def school_calculator(age, text):\n",
    "    if age==5:\n",
    "        print(\"Hammad can join the school\")\n",
    "    elif age > 5:\n",
    "        print(\"Hammad should go to high school\")\n",
    "    else:\n",
    "        print(\"Hammad can't join the school\")\n",
    "school_calculator(age , \"Hammad\") # Can Replace \"Hammad\" with NONE\n",
    "\n",
    "\n",
    "# 4 Defining a function of future\n",
    "age=int(input(\"enter your age\"))\n",
    "def future_age(age):\n",
    "    new_age=age+20\n",
    "    return new_age\n",
    "    print(new_age)\n",
    "future_age(age)"
   ]
  },
  {
   "cell_type": "markdown",
   "metadata": {},
   "source": [
    "**11-loops**"
   ]
  },
  {
   "cell_type": "code",
   "execution_count": 11,
   "metadata": {},
   "outputs": [
    {
     "name": "stdout",
     "output_type": "stream",
     "text": [
      "5\n",
      "4\n",
      "3\n",
      "2\n",
      "1\n",
      "0\n",
      "1\n",
      "2\n",
      "3\n",
      "4\n",
      "5\n",
      "6\n",
      "7\n",
      "8\n",
      "9\n",
      "1\n",
      "2\n",
      "3\n",
      "5\n",
      "6\n",
      "7\n",
      "8\n"
     ]
    }
   ],
   "source": [
    "#while and for loops\n",
    "# We define in while loops\n",
    "\n",
    "#while loop\n",
    "\n",
    "x=5\n",
    "while (x>0):\n",
    "    print(x)\n",
    "    x=x-1\n",
    "\n",
    "x=0\n",
    "while (x<5):\n",
    "    print(x)\n",
    "    x=x+1\n",
    "\n",
    "\n",
    "#for loops\n",
    "for x in range(5,10):\n",
    "    print(x)\n",
    "\n",
    "\n",
    "# array\n",
    "days= [1,2,3,4,5,6,7,8]\n",
    "\n",
    "for d in days:\n",
    "#     if (d==4):break #breaks the loop\n",
    "#     print(d) \n",
    "\n",
    "    if (d==4):continue #skips the d==4\n",
    "    print(d)"
   ]
  },
  {
   "cell_type": "markdown",
   "metadata": {},
   "source": [
    "**12-import libraries**"
   ]
  },
  {
   "cell_type": "code",
   "execution_count": 12,
   "metadata": {},
   "outputs": [
    {
     "name": "stdout",
     "output_type": "stream",
     "text": [
      "The value of Pi is  3.141592653589793\n",
      "94\n",
      "40\n"
     ]
    }
   ],
   "source": [
    "import math\n",
    "print(\"The value of Pi is \", math.pi)\n",
    "\n",
    "import statistics\n",
    "x=[10,20,350,40,50]\n",
    "print(statistics.mean(x))\n",
    "print(statistics.median(x))\n",
    "\n",
    "#numpy, pandas important and basic libraries"
   ]
  },
  {
   "cell_type": "markdown",
   "metadata": {},
   "source": [
    "**13-troubleshooting**"
   ]
  },
  {
   "cell_type": "code",
   "execution_count": null,
   "metadata": {},
   "outputs": [],
   "source": []
  }
 ],
 "metadata": {
  "kernelspec": {
   "display_name": "Python 3",
   "language": "python",
   "name": "python3"
  },
  "language_info": {
   "codemirror_mode": {
    "name": "ipython",
    "version": 3
   },
   "file_extension": ".py",
   "mimetype": "text/x-python",
   "name": "python",
   "nbconvert_exporter": "python",
   "pygments_lexer": "ipython3",
   "version": "3.8.5"
  }
 },
 "nbformat": 4,
 "nbformat_minor": 4
}
